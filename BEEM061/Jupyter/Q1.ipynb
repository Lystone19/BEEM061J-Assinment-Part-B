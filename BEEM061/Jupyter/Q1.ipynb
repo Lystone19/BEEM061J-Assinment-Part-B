{
 "cells": [
  {
   "cell_type": "code",
   "execution_count": 2,
   "metadata": {},
   "outputs": [],
   "source": [
    "import json\n",
    "import requests\n",
    "\n"
   ]
  },
  {
   "cell_type": "code",
   "execution_count": 3,
   "metadata": {},
   "outputs": [
    {
     "name": "stdout",
     "output_type": "stream",
     "text": [
      "531\n",
      "1619602252\n",
      "0.002239259999999632\n",
      "115\n",
      "ViaBTC\n"
     ]
    }
   ],
   "source": [
    "answer_1 = requests.get(\"https://api.whatsonchain.com/v1/bsv/main/block/hash/000000000000000005079c082bc1e80e90544ffb806c7b11a96d372a7a957d9f\")\n",
    "block_1 = json.loads(answer_1.text)\n",
    "print(block_1['txcount'])\n",
    "print(block_1['time'])\n",
    "print(block_1['totalFees'])\n",
    "print(block_1['confirmations'])\n",
    "print(block_1['miner'])"
   ]
  },
  {
   "cell_type": "code",
   "execution_count": 4,
   "metadata": {},
   "outputs": [
    {
     "name": "stdout",
     "output_type": "stream",
     "text": [
      "2021-04-28 17:30:52\n"
     ]
    }
   ],
   "source": [
    "import datetime\n",
    "timestamp_1 = datetime.datetime.fromtimestamp(block_1['time'])\n",
    "print(timestamp_1.strftime('%Y-%m-%d %H:%M:%S'))"
   ]
  },
  {
   "cell_type": "code",
   "execution_count": 5,
   "metadata": {},
   "outputs": [
    {
     "name": "stdout",
     "output_type": "stream",
     "text": [
      "1231731025\n",
      "2009-01-12 11:30:25\n"
     ]
    }
   ],
   "source": [
    "answer_2 = requests.get(\"https://api.whatsonchain.com/v1/bsv/main/block/hash/00000000d1145790a8694403d4063f323d499e655c83426834d4ce2f8dd4a2ee\")\n",
    "block_2 = json.loads(answer_2.text)\n",
    "print(block_2['time'])\n",
    "timestamp_2 = datetime.datetime.fromtimestamp(block_2['time'])\n",
    "print(timestamp_2.strftime('%Y-%m-%d %H:%M:%S'))"
   ]
  },
  {
   "cell_type": "code",
   "execution_count": 6,
   "metadata": {},
   "outputs": [
    {
     "name": "stdout",
     "output_type": "stream",
     "text": [
      "1274552191\n",
      "2010-05-23 02:16:31\n"
     ]
    }
   ],
   "source": [
    "\n",
    "answer_3 = requests.get(\"https://api.whatsonchain.com/v1/bsv/main/block/hash/00000000152340ca42227603908689183edc47355204e7aca59383b0aaac1fd8\")\n",
    "block_3 = json.loads(answer_3.text)\n",
    "print(block_3['time'])\n",
    "timestamp_3 = datetime.datetime.fromtimestamp(block_3['time'])\n",
    "print(timestamp_3.strftime('%Y-%m-%d %H:%M:%S'))"
   ]
  }
 ],
 "metadata": {
  "kernelspec": {
   "display_name": "Python 3",
   "language": "python",
   "name": "python3"
  },
  "language_info": {
   "codemirror_mode": {
    "name": "ipython",
    "version": 3
   },
   "file_extension": ".py",
   "mimetype": "text/x-python",
   "name": "python",
   "nbconvert_exporter": "python",
   "pygments_lexer": "ipython3",
   "version": "3.8.5"
  }
 },
 "nbformat": 4,
 "nbformat_minor": 4
}
